{
  "cells": [
    {
      "attachments": {},
      "cell_type": "markdown",
      "metadata": {
        "id": "iFl9gRbvYvWH"
      },
      "source": [
        "# Lab 12.2: Kế thừa trong Python\n",
        "\n",
        "Ở bài Lab này, bạn sẽ cần hoàn thành các đoạn code ở phần `[...]` để hoàn thiện bài toán theo yêu cầu từ đề bài."
      ]
    },
    {
      "attachments": {},
      "cell_type": "markdown",
      "metadata": {
        "id": "HjWIVwKJYtSD"
      },
      "source": [
        "Bạn được tạo sẵn Class `Pokemon` được sử dụng để mô tả một Pokemon như đoạn code bên dưới. Bạn hãy bổ sung thêm các hàm như sau:\n",
        "1. `update()`: Thiết lập các chỉ số của Pokemon về như sau: `health_boost = 5; attack_boost = 3; defense_boost = 2; evolve = 10`.\n",
        "2. `attack_up()`: Tăng chỉ số `attack` của Pokemon = `attack + attack_boost` và trả về chỉ số `attack` mới.\n",
        "3. `defense_up()`: Tăng chỉ số `defense` của Pokemon = `defense + defense_boost` và trả về chỉ số `defense` mới.\n",
        "4. `health_up()`: Tăng chỉ số `health` của Pokemon = `health + health_boost` và trả về chỉ số `health` mới.\n"
      ]
    },
    {
      "cell_type": "code",
      "execution_count": 2,
      "metadata": {
        "id": "ZDr3VRd-YkWc"
      },
      "outputs": [],
      "source": [
        "class Pokemon(object):\n",
        "    attack = 12\n",
        "    defense = 10\n",
        "    health = 15\n",
        "    p_type = \"Normal\"\n",
        "\n",
        "    def __init__(self, name, level = 5):\n",
        "        self.name = name\n",
        "        self.level = level\n",
        "\n",
        "    def train(self):\n",
        "        self.update()\n",
        "        self.attack_up()\n",
        "        self.defense_up()\n",
        "        self.health_up()\n",
        "        self.level = self.level + 1\n",
        "        if self.level%self.evolve == 0:\n",
        "            return self.level, \"Evolved!\"\n",
        "        else:\n",
        "            return self.level\n",
        "\n",
        "    def attack_up(self):\n",
        "        self.attack += self.attack_boost\n",
        "\n",
        "    def defense_up(self):\n",
        "        self.defense += self.defense_boost\n",
        "\n",
        "    def health_up(self):\n",
        "        self.health += self.health_boost\n",
        "\n",
        "    def update(self):\n",
        "        self.health_boost = 5\n",
        "        self.attack_boost = 3\n",
        "        self.defense_boost = 2\n",
        "        self.evolve = 10\n",
        "\n",
        "    def __str__(self):\n",
        "        self.update()\n",
        "        return \"Pokemon name: {}, Type: {}, Level: {}\\r\\nAttack: {}, Defense: {}, Health: {}\".format(self.name, self.p_type, self.level, self.attack, self.defense, self.health)"
      ]
    },
    {
      "attachments": {},
      "cell_type": "markdown",
      "metadata": {
        "id": "ewWM7tkaLJ9_"
      },
      "source": [
        "Kiểm tra đoạn code đã hoạt động đúng chưa."
      ]
    },
    {
      "cell_type": "code",
      "execution_count": 3,
      "metadata": {
        "colab": {
          "base_uri": "https://localhost:8080/"
        },
        "id": "w6z75gOebZjF",
        "outputId": "801838d0-793b-4cc8-cdff-ee4ec9ec69ca"
      },
      "outputs": [
        {
          "name": "stdout",
          "output_type": "stream",
          "text": [
            "Pokemon name: Alomomola, Type: Normal, Level: 9\n",
            "Attack: 12, Defense: 10, Health: 15\n",
            "------\n",
            "Traning:  (10, 'Evolved!')\n",
            "------\n",
            "Pokemon name: Alomomola, Type: Normal, Level: 10\n",
            "Attack: 15, Defense: 12, Health: 20\n"
          ]
        }
      ],
      "source": [
        "pokemon = Pokemon('Alomomola', 9)\n",
        "print(pokemon)\n",
        "print('------')\n",
        "print('Traning: ', pokemon.train())\n",
        "print('------')\n",
        "print(pokemon)"
      ]
    },
    {
      "attachments": {},
      "cell_type": "markdown",
      "metadata": {
        "id": "TBfj99EVeAok"
      },
      "source": [
        "Tạo một Class `Grass_Pokemon` được kế thừa từ `Pokemon` với các thay đổi như sau: \n",
        "\n",
        "1. Các thuộc tính sẽ có giá trị ban đầu như sau `attack = 15; defense = 14; health = 12; p_type = \"Grass\"`.\n",
        "2. Ghi đè lại hàm `update` để thay đôi các chỉ số như sau `health_boost = 6; attack_boost = 2; defense_boost = 3; evolve = 12`.\n",
        "3. Ghi đè lại hàm `train` để chỉ số `attack` chỉ tăng khi `level > 10`.\n",
        "4. Bổ sung thêm 2 thuộc tính là `weak` và `strong`.\n"
      ]
    },
    {
      "cell_type": "code",
      "execution_count": 4,
      "metadata": {
        "id": "yj8KSLqYaTH8"
      },
      "outputs": [],
      "source": [
        "class Grass_Pokemon(Pokemon):\n",
        "    attack = 15\n",
        "    defense = 14\n",
        "    health = 12\n",
        "    p_type = \"Grass\"\n",
        "\n",
        "    def update(self):\n",
        "        self.health_boost = 6\n",
        "        self.attack_boost = 2\n",
        "        self.defense_boost = 3\n",
        "        self.evolve = 12\n",
        "\n",
        "    def __init__(self, name,level = 5):\n",
        "        super().__init__(name, level)\n",
        "        self.weak = \"Dark\"\n",
        "        self.strong = \"Psychic\"\n",
        "\n",
        "    def train(self):\n",
        "        self.update()\n",
        "        if self.level>10:\n",
        "            self.attack_up()\n",
        "        self.defense_up()\n",
        "        self.health_up()\n",
        "        self.level = self.level + 1\n",
        "        if self.level%self.evolve == 0:\n",
        "            return self.level, \"Evolved!\"\n",
        "        else:\n",
        "            return self.level\n",
        "\n",
        "    def moves(self):\n",
        "        self.p_moves = [\"razor leaf\", \"synthesis\", \"petal dance\"]\n",
        "\n",
        "    def action(self):\n",
        "        return self.name + \" knows a lot of different moves!\""
      ]
    },
    {
      "attachments": {},
      "cell_type": "markdown",
      "metadata": {
        "id": "Hg4JdfEHLOPW"
      },
      "source": [
        "Kiểm tra đoạn code đã hoạt động đúng chưa."
      ]
    },
    {
      "cell_type": "code",
      "execution_count": 5,
      "metadata": {
        "colab": {
          "base_uri": "https://localhost:8080/"
        },
        "id": "7GwfXOVUgqw9",
        "outputId": "6308bb80-406c-47d0-ff85-990beeae02c8"
      },
      "outputs": [
        {
          "name": "stdout",
          "output_type": "stream",
          "text": [
            "Pokemon name: Petilil, Type: Grass, Level: 9\n",
            "Attack: 15, Defense: 14, Health: 12\n",
            "------\n",
            "Traning:  10\n",
            "------\n",
            "Pokemon name: Petilil, Type: Grass, Level: 10\n",
            "Attack: 15, Defense: 17, Health: 18\n",
            "------\n",
            "Traning:  11\n",
            "------\n",
            "Pokemon name: Petilil, Type: Grass, Level: 11\n",
            "Attack: 15, Defense: 20, Health: 24\n"
          ]
        }
      ],
      "source": [
        "p1 = Grass_Pokemon('Petilil', 9)\n",
        "print(p1)\n",
        "print('------')\n",
        "print('Traning: ', p1.train())\n",
        "print('------')\n",
        "print(p1)\n",
        "print('------')\n",
        "print('Traning: ', p1.train())\n",
        "print('------')\n",
        "print(p1)"
      ]
    },
    {
      "attachments": {},
      "cell_type": "markdown",
      "metadata": {
        "id": "GEbDtp8KtSom"
      },
      "source": [
        "Tạo thêm 3 Class mới được kế thừa từ Class `Pokemon` như sau:\n",
        "\n",
        "1. Class `Ghost_Pokemon` với `p_type = \"Ghost\"; weak = \"Dark\"; strong = \"Psychic\"`.\n",
        "2. Class `Fire_Pokemon` với `p_type = \"Fire\"; weak = \"Water\"; strong = \"Grass\"`.\n",
        "3. Class `Flying_Pokemon` với `p_type = \"Flying\"; weak = \"Electric\"; strong = \"Fighting\"`."
      ]
    },
    {
      "cell_type": "code",
      "execution_count": 6,
      "metadata": {
        "id": "zEMRoCU4vDlB"
      },
      "outputs": [],
      "source": [
        "class Ghost_Pokemon(Pokemon):\n",
        "    p_type = \"Ghost\"\n",
        "    def __init__(self, name,level = 5):\n",
        "        super().__init__(name, level)\n",
        "        self.weak = \"Dark\"\n",
        "        self.strong = \"Psychic\"\n",
        "\n",
        "class Fire_Pokemon(Pokemon):\n",
        "    p_type = \"Fire\"\n",
        "    def __init__(self, name,level = 5):\n",
        "        super().__init__(name, level)\n",
        "        self.weak = \"Water\"\n",
        "        self.strong = \"Grass\"\n",
        "\n",
        "class Flying_Pokemon(Pokemon):\n",
        "    p_type = \"Flying\"\n",
        "    def __init__(self, name,level = 5):\n",
        "        super().__init__(name, level)\n",
        "        self.weak = \"Electric\"\n",
        "        self.strong = \"Fighting\""
      ]
    },
    {
      "attachments": {},
      "cell_type": "markdown",
      "metadata": {
        "id": "3jrx4PmzLPbp"
      },
      "source": [
        "Kiểm tra đoạn code đã hoạt động đúng chưa."
      ]
    },
    {
      "cell_type": "code",
      "execution_count": 7,
      "metadata": {
        "colab": {
          "base_uri": "https://localhost:8080/"
        },
        "id": "R4XNNh0WKOAy",
        "outputId": "a9b5e655-22c5-4c32-875a-51581a349584"
      },
      "outputs": [
        {
          "name": "stdout",
          "output_type": "stream",
          "text": [
            "Pokemon name: Cofagrigus, Type: Ghost, Level: 10\n",
            "Attack: 12, Defense: 10, Health: 15\n",
            "Pokemon name: Reshiram, Type: Fire, Level: 12\n",
            "Attack: 12, Defense: 10, Health: 15\n",
            "Pokemon name: Zapdos, Type: Ghost, Level: 9\n",
            "Attack: 12, Defense: 10, Health: 15\n"
          ]
        }
      ],
      "source": [
        "print(Ghost_Pokemon('Cofagrigus', 10))\n",
        "print(Fire_Pokemon('Reshiram', 12))\n",
        "print(Ghost_Pokemon('Zapdos', 9))"
      ]
    }
  ],
  "metadata": {
    "colab": {
      "provenance": []
    },
    "kernelspec": {
      "display_name": "Python 3",
      "name": "python3"
    },
    "language_info": {
      "codemirror_mode": {
        "name": "ipython",
        "version": 3
      },
      "file_extension": ".py",
      "mimetype": "text/x-python",
      "name": "python",
      "nbconvert_exporter": "python",
      "pygments_lexer": "ipython3",
      "version": "3.11.1"
    }
  },
  "nbformat": 4,
  "nbformat_minor": 0
}
