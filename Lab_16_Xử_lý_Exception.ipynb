{
  "nbformat": 4,
  "nbformat_minor": 0,
  "metadata": {
    "colab": {
      "provenance": []
    },
    "kernelspec": {
      "name": "python3",
      "display_name": "Python 3"
    },
    "language_info": {
      "name": "python"
    }
  },
  "cells": [
    {
      "cell_type": "markdown",
      "metadata": {
        "id": "iFl9gRbvYvWH"
      },
      "source": [
        "# Lab 16: Xử lý Exception\n",
        "\n",
        "Ở bài Lab này, bạn sẽ cần hoàn thành các đoạn code ở phần `[...]` để hoàn thiện bài toán theo yêu cầu từ đề bài."
      ]
    },
    {
      "cell_type": "markdown",
      "metadata": {
        "id": "HjWIVwKJYtSD"
      },
      "source": [
        "## Lab 16.1\n",
        "\n",
        "**Đề bài** : Ở bài toán dưới đây, bạn được cung cấp danh sách các quốc gia ở mảng `country` và danh sách số lương huy chương vàng của từng quốc gia. Bạn cần hoàn thành đoạn code để lấy danh sách huy chương vàng theo các quốc gia ở mảng `country`, nếu như không có dữ liệu ở biến `gold` thì hãy trả về  `\"Did not get gold\"`. Ví dụ như sau:\n",
        "```\n",
        "gold = {\"US\": 46, \"Fiji\": 1, \"Great Britain\": 27, \"Cuba\": 5, \"Thailand\": 2, \"China\": 26, \"France\": 10}\n",
        "country = [\"Fiji\", \"Chile\", \"Mexico\", \"France\", \"Norway\", \"US\"]\n",
        "```\n",
        "Thì kết quả sẽ là:\n",
        "```\n",
        "[1, 'Did not get gold', 'Did not get gold', 10, 'Did not get gold', 46]\n",
        "```"
      ]
    },
    {
      "cell_type": "code",
      "metadata": {
        "id": "ZDr3VRd-YkWc",
        "colab": {
          "base_uri": "https://localhost:8080/"
        },
        "outputId": "8450e5bf-275f-426b-afd5-a518a09c18a9"
      },
      "source": [
        "gold = {\"US\": 46, \"Fiji\": 1, \"Great Britain\": 27, \"Cuba\": 5, \"Thailand\": 2, \"China\": 26, \"France\": 10}\n",
        "country = [\"Fiji\", \"Chile\", \"Mexico\", \"France\", \"Norway\", \"US\"]\n",
        "country_gold = []\n",
        "\n",
        "for x in country:\n",
        "    try:\n",
        "      country_gold.append(gold[x])\n",
        "    except KeyError:\n",
        "        country_gold.append(\"Did not get gold\")\n",
        "\n",
        "print(country_gold)"
      ],
      "execution_count": 3,
      "outputs": [
        {
          "output_type": "stream",
          "name": "stdout",
          "text": [
            "[1, 'Did not get gold', 'Did not get gold', 10, 'Did not get gold', 46]\n"
          ]
        }
      ]
    },
    {
      "cell_type": "markdown",
      "source": [
        "## Lab 16.2\n",
        "\n",
        "**Đề bài** : Ở bài tập này, bạn sẽ cần lọc các số ở mảng `lst` để tìm các số là ước số của 100. Ví dụ: \n",
        "```\n",
        "[2, 4, 10, 42, 12, 0, 4, 7, 21, 4, 83, 8, 5, 6, 8, 234, 5, 6, 523, 42, 34, 0, 234, 1, 435, 465, 56, 7, 3, 43, 23]\n",
        "```\n",
        "Thì kết quả sẽ là:\n",
        "```\n",
        "[2, 4, 10, 4, 4, 5, 5, 1]\n",
        "```"
      ],
      "metadata": {
        "id": "4S4udmeLGeSB"
      }
    },
    {
      "cell_type": "code",
      "source": [
        "lst = [2, 4, 10, 42, 12, 0, 4, 7, 21, 4, 83, 8, 5, 6, 8, 234, 5, 6, 523, 42, 34, 0, 234, 1, 435, 465, 56, 7, 3, 43, 23]\n",
        "\n",
        "lst_three = []\n",
        "\n",
        "for num in lst:\n",
        "    try:\n",
        "      if 100 % num == 0:\n",
        "        lst_three.append(num)\n",
        "    except ZeroDivisionError:\n",
        "        pass\n",
        "print(lst_three)"
      ],
      "metadata": {
        "colab": {
          "base_uri": "https://localhost:8080/"
        },
        "id": "_lRnA83MH-vm",
        "outputId": "a13f443c-d96d-4b40-cde0-0a6602d454fd"
      },
      "execution_count": 4,
      "outputs": [
        {
          "output_type": "stream",
          "name": "stdout",
          "text": [
            "[2, 4, 10, 4, 4, 5, 5, 1]\n"
          ]
        }
      ]
    }
  ]
}