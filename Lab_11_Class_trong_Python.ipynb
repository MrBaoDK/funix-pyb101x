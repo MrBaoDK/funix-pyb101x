{
  "nbformat": 4,
  "nbformat_minor": 0,
  "metadata": {
    "colab": {
      "provenance": []
    },
    "kernelspec": {
      "name": "python3",
      "display_name": "Python 3"
    },
    "language_info": {
      "name": "python"
    }
  },
  "cells": [
    {
      "cell_type": "markdown",
      "metadata": {
        "id": "iFl9gRbvYvWH"
      },
      "source": [
        "# Lab 11: Class trong Python\n",
        "\n",
        "Ở bài Lab này, bạn sẽ cần hoàn thành các đoạn code ở phần `[...]` để hoàn thiện bài toán theo yêu cầu từ đề bài."
      ]
    },
    {
      "cell_type": "markdown",
      "metadata": {
        "id": "HjWIVwKJYtSD"
      },
      "source": [
        "## Lab 11.1\n",
        "\n",
        "**Đề bài** : Tạo một Class `Bike` bao gồm hai thuộc tính như sau\n",
        "- `color (string)`: Màu sắc của chiếc xe.\n",
        "- `price (float)`: Giá của chiếc xe.\n",
        "\n",
        "\n",
        "Sau đó, tạo hai Object Bike là `testOne (color = 'blue', price = 89.99)` và `testTwo (color = 'purple', price = 25.0)`."
      ]
    },
    {
      "cell_type": "code",
      "metadata": {
        "id": "ZDr3VRd-YkWc"
      },
      "source": [
        "class Bike:\n",
        "  def __init__(self, color, price):\n",
        "    self.color = color\n",
        "    self.price = price\n",
        "\n",
        "testOne = Bike(color = 'blue', price = 89.99)  \n",
        "testTwo = Bike(color = 'purple', price = 25.0)"
      ],
      "execution_count": 3,
      "outputs": []
    },
    {
      "cell_type": "markdown",
      "metadata": {
        "id": "VyvQBb2yaT0X"
      },
      "source": [
        "Kiểm tra xem đoạn code đã hoạt động đúng chưa, nếu như output như sau thì bạn đã hoàn thành bài Lab này: \n",
        "```\n",
        "blue 89.99\n",
        "purple 25.0\n",
        "```"
      ]
    },
    {
      "cell_type": "code",
      "metadata": {
        "id": "yj8KSLqYaTH8",
        "colab": {
          "base_uri": "https://localhost:8080/"
        },
        "outputId": "f6fd5131-ff73-4536-91eb-d508e2ebe35e"
      },
      "source": [
        "print(testOne.color, testOne.price)\n",
        "print(testTwo.color, testTwo.price)"
      ],
      "execution_count": 4,
      "outputs": [
        {
          "output_type": "stream",
          "name": "stdout",
          "text": [
            "blue 89.99\n",
            "purple 25.0\n"
          ]
        }
      ]
    },
    {
      "cell_type": "markdown",
      "metadata": {
        "id": "MWmhZy68c5Wy"
      },
      "source": [
        "## Lab 11.2\n",
        "\n",
        "**Đề bài** : Tạo một Class `AppleBasket` bao gồm hai thuộc tính như sau\n",
        "- `apple_color (string)`: Màu sắc của quả táo.\n",
        "- `apple_quantity (int)`: Số lượng táo trong giỏ.\n",
        "\n",
        "\n",
        "Sau đó, bạn cần tạo một Class Method `increase` sử dụng để tăng giá trị của thuộc tính apple_quantity` thêm 1.\n",
        "\n",
        "Cuối dùng, bạn cần thiết kế để khi in Object được tạo thì sẽ có format như sau `A basket of [quantity] [color] apples.`"
      ]
    },
    {
      "cell_type": "code",
      "metadata": {
        "id": "4F58nI8ic5Wy"
      },
      "source": [
        "class AppleBasket:\n",
        "  def __init__(self, apple_color, apple_quantity):\n",
        "    self.color = apple_color\n",
        "    self.quantity = apple_quantity\n",
        "  def increase(self):\n",
        "    self.quantity += 1\n",
        "  def __str__(self):\n",
        "    return f'A basket of {self.quantity} {self.color} apples.'"
      ],
      "execution_count": 5,
      "outputs": []
    },
    {
      "cell_type": "markdown",
      "metadata": {
        "id": "DAyvH2jlc5Wz"
      },
      "source": [
        "Kiểm tra xem đoạn code đã hoạt động đúng chưa, nếu như output như sau thì bạn đã hoàn thành bài Lab này: \n",
        "```\n",
        "A basket of 4 red apples.\n",
        "A basket of 5 red apples.\n",
        "```"
      ]
    },
    {
      "cell_type": "code",
      "metadata": {
        "colab": {
          "base_uri": "https://localhost:8080/"
        },
        "id": "vhclax4Kc5Wz",
        "outputId": "07ba5c53-ff5f-4358-8471-19a65eea1db0"
      },
      "source": [
        "testOne = AppleBasket('red',4)\n",
        "print(testOne)\n",
        "testOne.increase()\n",
        "print(testOne)"
      ],
      "execution_count": 6,
      "outputs": [
        {
          "output_type": "stream",
          "name": "stdout",
          "text": [
            "A basket of 4 red apples.\n",
            "A basket of 5 red apples.\n"
          ]
        }
      ]
    }
  ]
}